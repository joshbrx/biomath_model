{
  "nbformat": 4,
  "nbformat_minor": 0,
  "metadata": {
    "colab": {
      "provenance": [],
      "authorship_tag": "ABX9TyPUjfPW2Zz8gR/Cpg1078nl",
      "include_colab_link": true
    },
    "kernelspec": {
      "name": "python3",
      "display_name": "Python 3"
    },
    "language_info": {
      "name": "python"
    }
  },
  "cells": [
    {
      "cell_type": "markdown",
      "metadata": {
        "id": "view-in-github",
        "colab_type": "text"
      },
      "source": [
        "<a href=\"https://colab.research.google.com/github/joshbrx/biomath_model/blob/main/Stellate_N_cancer_cells.ipynb\" target=\"_parent\"><img src=\"https://colab.research.google.com/assets/colab-badge.svg\" alt=\"Open In Colab\"/></a>"
      ]
    },
    {
      "cell_type": "markdown",
      "source": [
        "# GRN model for stellate cells in pancreas.\n",
        "\n",
        "Para modelar correctamente la red de regulación genética, renormbraremos las variables del sistema para poder simplificar el proceso"
      ],
      "metadata": {
        "id": "nOst1mC5dLbS"
      }
    },
    {
      "cell_type": "markdown",
      "source": [
        "| $TNF_a$ | $TGFb_1$ | $RAS$ | $P53$ | $PIP3$ | $ERK$ | Apoptosis | Proliferation |\n",
        "|:-------:|:--------:|:-----:|:-----:|:------:|:-----:|:-----------:|:---------------:|\n",
        "|  $X_1$  |   $X_2$  | $Y_1$ | $Y_2$ |  $Y_3$ | $Y_4$ |    $Z_1$    |      $Z_2$      |"
      ],
      "metadata": {
        "id": "6eYBkwVadpXn"
      }
    },
    {
      "cell_type": "markdown",
      "source": [
        "\\begin{align}\n",
        "    \\dot{x_1} &= x_1^{\\infty} - x_1(t) \\\\\n",
        "    \\dot{x_2} &= x_2^{\\infty} - x_2(t) \\\\\n",
        "    \\dot{y_1} &= \\left(\\alpha_1 x_1 + \\beta_3^{-} y_3 + \\beta_2 y_4\\right) - \\left(\\beta_2 + \\beta_3^{+}\\right)y_1 \\\\\n",
        "    \\dot{y_2} &= \\left(\\beta_1y_1 + \\frac{\\delta_2k_2^{n_2}}{k_2^{n_2} + y_3^{n_2}} + \\frac{\\delta_4k_4^{n_4}}{k_4^{n_4} + y_2^{n_4}}\\right) - \\gamma_1 y_2 \\\\\n",
        "    \\dot{y_3} &=\\left(\\alpha_3x_2 + \\beta_3^{+}y_1 + \\frac{\\delta_1k_1^{n_1}}{k_1^{n_1}+y_2^{n_1}}\\right) - \\beta_3^{-}y_3 \\\\\n",
        "    \\dot{y_4} &= \\alpha_3 x_2 - \\left(\\beta_2 + \\gamma_2\\right)y_4 \\\\\n",
        "    \\dot{z_1} &= \\gamma_1 y_2 - z_1\\\\\n",
        "    \\dot{z_2} &= \\gamma_2 y_4 + \\frac{\\delta_3k_3^{n_3}}{k_3^{n_3} + y_4^{n_3}} - z_2 \\\\ \n",
        "    \\dot{N} &= \\frac{\\mu_2}{\\mu_2 + z_2^n} - \\frac{\\mu_1}{\\mu_1 + z_1^n} \n",
        "\\end{align}\n",
        "---\n",
        "\n"
      ],
      "metadata": {
        "id": "Yt4GwSE2g1F-"
      }
    },
    {
      "cell_type": "code",
      "source": [
        "import matplotlib.pyplot as plt\n",
        "import numpy as np\n",
        "import random "
      ],
      "metadata": {
        "id": "Z3Br71Cf9sbs"
      },
      "execution_count": 74,
      "outputs": []
    },
    {
      "cell_type": "code",
      "source": [
        "def supr(e, n, s):\n",
        "    return e/(1 + s**n)"
      ],
      "metadata": {
        "id": "1Q0v9qVa61Bg"
      },
      "execution_count": 75,
      "outputs": []
    },
    {
      "cell_type": "code",
      "source": [
        "def dS(S, i):\n",
        "    # RY, RC, RZ, Y, C, Z = S\n",
        "    Ry1, Ry2, Ry3, Ry4, Rc2, Rc3, Rc4, Rc5, Rz1, Rz2, Rz3, Rz4, y1, y2, y3, y4, c2, c3, c4, c5, z1, z2, z3, z4 = S\n",
        "    # --------------------------------------------------------\n",
        "    dRy1 = e[0]*(supr(1, n[0], X1[i]) + supr(1, n[0], y1) + supr(1, n[0], y3) + supr(1, n[0], y4) + supr(1, n[0], c3)) - Ry1\n",
        "    dy1  = supr(1, n[1], Ry1) - y1\n",
        "\n",
        "    dRy2 = e[1]*(supr(1, n[0], y1) + supr(1, -n[0], y2) + supr(1, -n[0], y3)) - Ry2\n",
        "    dy2  = supr(1, n[1], Ry2) - y2;\n",
        "\n",
        "    dRy3 = e[2]*(supr(1, n[0], X2[i]) + supr(1, n[0], y1) + supr(1, -n[0], y2)) - Ry3\n",
        "    dy3  = supr(1, n[1], Ry3) - y3;\n",
        "\n",
        "    dRy4 = e[3]*(supr(1, n[0], X2[i]) + supr(1, n[0], y2)) - Ry4\n",
        "    dy4  = supr(1, n[1], Ry4) - y4;\n",
        "    # --------------------------------------------------------\n",
        "    dRc2 = e[5]*(supr(2, -n[0], c2) + supr(2, -n[0], c3) + supr(1, n[0], c3) + supr(1, -n[0], c5)) - Rc2\n",
        "    dc2  = supr(1, n[1], Rc2) - c2;\n",
        "\n",
        "    dRc3 = e[6]*(supr(1, n[0], y1) + supr(1, -n[0], c2)) - Rc3\n",
        "    dc3  = supr(1, n[1], Rc3) - c3;\n",
        "\n",
        "    dRc4 = e[7]*(supr(1, n[0], y1) + supr(1, n[0], c3) + supr(2, -n[0], c2)) - Rc4\n",
        "    dc4  = supr(1, n[1], Rc4) - c4;\n",
        "\n",
        "    dRc5 = e[8]*(supr(1, n[0], X2[i]) + supr(1, n[0], c2)) - Rc5\n",
        "    dc5  = supr(1, n[1], Rc5) - c5;\n",
        "    # --------------------------------------------------------\n",
        "    dRz1 = dRy2;\n",
        "    dz1  = dy2;\n",
        "\n",
        "    dRz2 = e[4]*(supr(1, -n[0], y2) + supr(1, n[0], y4)) - Rz2\n",
        "    dz2  = supr(1, n[1], Rz2) - z2;\n",
        "\n",
        "    dRz3 = e[9]*(supr(2, -n[0], c3) + supr(1, n[0], c2) + supr(1, -n[0], c4)) - Rz3\n",
        "    dz3  = supr(1, n[1], Rz3) - z3;\n",
        "\n",
        "    dRz4 = e[10]*(supr(1, n[0], y1) + supr(1, n[0], c3) + supr(1, -n[0], c5)) - Rz4\n",
        "    dz4  = supr(1, n[1], Rz4) - z4;\n",
        "    # --------------------------------------------------------\n",
        "    dS = dRy1, dRy2, dRy3, dRy4, dRc2, dRc3, dRc4, dRc5, dRz1, dRz2, dRz3, dRz4, dy1, dy2, dy3, dy4, dc2, dc3, dc4, dc5, dz1, dz2, dz3, dz4\n",
        "\n",
        "    return np.array(dS)"
      ],
      "metadata": {
        "id": "LcILkVpiC7K3"
      },
      "execution_count": 76,
      "outputs": []
    },
    {
      "cell_type": "code",
      "source": [
        "def RK_solver(S0, t):\n",
        "    dims = len(S0)\n",
        "    K = np.empty([4, dims])\n",
        "    S = np.empty([len(t)+1, dims])\n",
        "    \n",
        "    for d in range(dims):   \n",
        "        S[0, d] = S0[d]\n",
        "\n",
        "    dt = t[1] - t[0]; \n",
        "    for i in range(len(t)):\n",
        "        K[0] = dt * dS(S[i]         , i) \n",
        "        K[1] = dt * dS(S[i] + K[0]/2, i)\n",
        "        K[2] = dt * dS(S[i] + K[1]/2, i)\n",
        "        K[3] = dt * dS(S[i] + K[2]  , i)\n",
        "        for d in range(dims):\n",
        "            S[i+1, d] = S[i, d] + (K[0,d]+2*K[1,d]+2*K[2,d]+K[3,d])/6\n",
        "    # S = S[0:-1,:]\n",
        "    return S"
      ],
      "metadata": {
        "id": "i7cwGbLX-r_f"
      },
      "execution_count": 77,
      "outputs": []
    },
    {
      "cell_type": "code",
      "source": [
        "# parámetros\n",
        "n = [-4, -20] \n",
        "e = [1/0.25, 1/2.25, 1/2.25, 1/0.25, 1/1.25, 1/4.25, 1.25, 2.25, 0.25, 2.75, 1.75]\n",
        "\n",
        "start=0; step=0.05; num=1000\n",
        "t = np.arange(0,num)*step+start"
      ],
      "metadata": {
        "id": "4hEuS8nkdKpy"
      },
      "execution_count": 78,
      "outputs": []
    },
    {
      "cell_type": "code",
      "source": [
        "S0 = np.concatenate([np.zeros(4*3), np.array([1, 0, 1, 1]), np.array([1, 1, 1, 0]), np.zeros(4)])      # R, Y, C, Z\n",
        "# omega = 1/5.715; X1, X2 = np.cos(t*omega)**2, np.sin(t*omega)**2            # omega_max = 7.715\n",
        "X1, X2 = np.ones(num + 20), np.ones(num)       \n",
        "labels = [\"$z_1$\", \"$z_2$\", \"$z_3$\", \"$z_4$\"]\n",
        "\n",
        "Pip = RK_solver(S0, t)\n",
        "plt.figure(figsize=(14,7), dpi=100)\n",
        "for i in range(len(Pip[0])-20):\n",
        "    plt.plot(Pip[:,i+20], label=labels[i])\n",
        "# for i in range(len(Pip[0])-8):             plt.plot(Pip[:,i+8], label=labels[i+3])\n",
        "# plt.plot(X1)\n",
        "plt.legend(); plt.grid(); plt.show()"
      ],
      "metadata": {
        "colab": {
          "base_uri": "https://localhost:8080/",
          "height": 624
        },
        "id": "832LV0AH_oyb",
        "outputId": "f9d9bab9-2db9-4584-cb45-1869b5d2a06e"
      },
      "execution_count": 83,
      "outputs": [
        {
          "output_type": "stream",
          "name": "stderr",
          "text": [
            "<ipython-input-75-c9dcc9093113>:2: RuntimeWarning: divide by zero encountered in double_scalars\n",
            "  return e/(1 + s**n)\n"
          ]
        },
        {
          "output_type": "display_data",
          "data": {
            "text/plain": [
              "<Figure size 1400x700 with 1 Axes>"
            ],
            "image/png": "[encoded data removed]"
          },
          "metadata": {
            "needs_background": "light"
          }
        }
      ]
    },
    {
      "cell_type": "code",
      "source": [
        "Pip[-1,:]"
      ],
      "metadata": {
        "colab": {
          "base_uri": "https://localhost:8080/"
        },
        "id": "irR4ZN2Sk4-X",
        "outputId": "9db9ef37-52d9-485e-beb2-94d67834ddbe"
      },
      "execution_count": 82,
      "outputs": [
        {
          "output_type": "execute_result",
          "data": {
            "text/plain": [
              "array([7.99994885e+00, 1.03624800e+00, 8.14025804e-01, 2.67376777e+00,\n",
              "       1.01406696e+00, 1.75610733e+00, 6.32195746e+00, 1.48778534e-01,\n",
              "       1.03624800e+00, 1.06524644e+00, 4.38663457e+00, 3.49997751e+00,\n",
              "       1.00000000e+00, 6.70871613e-01, 1.60595091e-02, 9.99999997e-01,\n",
              "       5.69393910e-01, 9.99987148e-01, 1.00000000e+00, 2.82361917e-17,\n",
              "       6.70871613e-01, 7.79735129e-01, 1.00000000e+00, 1.00000000e+00])"
            ]
          },
          "metadata": {},
          "execution_count": 82
        }
      ]
    },
    {
      "cell_type": "code",
      "source": [],
      "metadata": {
        "id": "bXi7Pko8AJc7"
      },
      "execution_count": 80,
      "outputs": []
    }
  ]
}