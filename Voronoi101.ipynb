{
  "nbformat": 4,
  "nbformat_minor": 0,
  "metadata": {
    "colab": {
      "provenance": [],
      "authorship_tag": "ABX9TyPkAjdcpH7P9PzwAXYMXNwC",
      "include_colab_link": true
    },
    "kernelspec": {
      "name": "python3",
      "display_name": "Python 3"
    },
    "language_info": {
      "name": "python"
    }
  },
  "cells": [
    {
      "cell_type": "markdown",
      "metadata": {
        "id": "view-in-github",
        "colab_type": "text"
      },
      "source": [
        "<a href=\"https://colab.research.google.com/github/joshbrx/biomath_model/blob/main/Voronoi101.ipynb\" target=\"_parent\"><img src=\"https://colab.research.google.com/assets/colab-badge.svg\" alt=\"Open In Colab\"/></a>"
      ]
    },
    {
      "cell_type": "code",
      "execution_count": null,
      "metadata": {
        "id": "hMTfwPHbL1or"
      },
      "outputs": [],
      "source": []
    },
    {
      "cell_type": "markdown",
      "source": [
        "# __Voronoi diagrams in Python__\n",
        "\n",
        "### How to use `SciPi` to create Voronoi polygons?\n",
        "\n",
        "---"
      ],
      "metadata": {
        "id": "2a-ISFNSkHHv"
      }
    },
    {
      "cell_type": "markdown",
      "source": [
        "Import stantard libraries for plotting and necessary libraries from `SciPy`"
      ],
      "metadata": {
        "id": "H7XxsruEYV3E"
      }
    },
    {
      "cell_type": "code",
      "execution_count": null,
      "metadata": {
        "id": "xl8qmV7S_9VQ"
      },
      "outputs": [],
      "source": [
        "import numpy as np\n",
        "import matplotlib as mpl\n",
        "import matplotlib.pyplot as plt\n",
        "import random \n",
        "from scipy.spatial import Voronoi, voronoi_plot_2d\n",
        "from matplotlib.collections import LineCollection\n",
        "\n",
        "from matplotlib.patches import Polygon\n",
        "\n",
        "mpl.rcParams['figure.figsize'] = (12,6)"
      ]
    },
    {
      "cell_type": "code",
      "source": [
        "### Visualization of a simple 3x3 rectangular grid with matplotlib\n",
        "points = np.array([[0, 0], [0, 1], [0, 2], [1, 0], [1, 1], [1, 2], [2, 0], [2, 1], [2, 2]])   #Or feel free to use any set of points       \n",
        "plt.figure(figsize=(6,6))\n",
        "plt.scatter(points[:,0], points[:,1])\n",
        "plt.grid();"
      ],
      "metadata": {
        "colab": {
          "base_uri": "https://localhost:8080/",
          "height": 374
        },
        "id": "rP3_oT1XF8cJ",
        "outputId": "157eeb78-d9aa-451c-84a4-a06716c674c9"
      },
      "execution_count": null,
      "outputs": [
        {
          "output_type": "display_data",
          "data": {
            "text/plain": [
              "<Figure size 432x432 with 1 Axes>"
            ],
            "image/png": "[encoded data removed]"
          },
          "metadata": {
            "needs_background": "light"
          }
        }
      ]
    },
    {
      "cell_type": "markdown",
      "source": [
        "First, create a Voronoi object using the coordinates of the points as an input"
      ],
      "metadata": {
        "id": "YxK9-RW1Zqq-"
      }
    },
    {
      "cell_type": "code",
      "source": [
        "### Creating Voronoi object\n",
        "vor = Voronoi(points)"
      ],
      "metadata": {
        "id": "U77I3hUGPI9O"
      },
      "execution_count": null,
      "outputs": []
    },
    {
      "cell_type": "markdown",
      "source": [
        "Then you have access to the following object properties:\n",
        "```\n",
        "vor.regions:          list of list of ints, shape (nregions+1)    # first entry is empty []\n",
        "--------------------> Indices of the Voronoi vertices forming each Voronoi region. -1 indicates vertex outside the Voronoi diagram.\n",
        "vor.max_bound:        numpy.ndarray, shape (ndims, *)\n",
        "-------------------->\n",
        "vor.ndim:             int, shape (1)\n",
        "-------------------->\n",
        "vor.ridge_dict*:      dict, shape (nridges)\n",
        "-------------------->\n",
        "vor.ridge_points:     numpy.ndarray, shape (nridges, ndims)\n",
        "-------------------->\n",
        "vor.ridge_vertices:   list of list of ints, shape (nridges, *)\n",
        "-------------------->\n",
        "vor.npoints:          int, shape (1)\n",
        "-------------------->\n",
        "vor.point_region:     numpy.ndarray, shape (npoints, *)\n",
        "--------------------> Indices of the Voronoi region assigned to each point \n",
        "vor.points:           numpy.ndarray, shape (npoints, ndims)\n",
        "-------------------->\n",
        "```\n"
      ],
      "metadata": {
        "id": "XSaTXGohcRW9"
      }
    },
    {
      "cell_type": "markdown",
      "source": [
        "### __Mapping__: Voronoi points, coordinates and regions.\n",
        "\n",
        "\\begin{align}\n",
        "    M: p_i \\to (x_i,y_i),\\qquad & M(p_i)= (x_i, y_i)\n",
        "\\end{align}\n",
        "\n",
        "---\n",
        "\\begin{align}\n",
        "    \\phi:p_i\\to r_j,\\qquad &\\phi(p_i) = r_j \n",
        "\\end{align}"
      ],
      "metadata": {
        "id": "7FhEiEUPvAiT"
      }
    },
    {
      "cell_type": "code",
      "source": [
        "for i in range(vor.npoints):\n",
        "    print(\"point #\",i, \":    [x,y] =\", vor.points[i],\"   ->  region \",vor.point_region[i])"
      ],
      "metadata": {
        "id": "oXAD53aAtIVe",
        "outputId": "7ca46cf1-1da3-49b6-9838-b42b58eb2801",
        "colab": {
          "base_uri": "https://localhost:8080/"
        }
      },
      "execution_count": null,
      "outputs": [
        {
          "output_type": "stream",
          "name": "stdout",
          "text": [
            "point # 0 :    [x,y] = [0. 0.]    ->  region  1\n",
            "point # 1 :    [x,y] = [0. 1.]    ->  region  3\n",
            "point # 2 :    [x,y] = [0. 2.]    ->  region  2\n",
            "point # 3 :    [x,y] = [1. 0.]    ->  region  8\n",
            "point # 4 :    [x,y] = [1. 1.]    ->  region  7\n",
            "point # 5 :    [x,y] = [1. 2.]    ->  region  9\n",
            "point # 6 :    [x,y] = [2. 0.]    ->  region  6\n",
            "point # 7 :    [x,y] = [2. 1.]    ->  region  4\n",
            "point # 8 :    [x,y] = [2. 2.]    ->  region  5\n"
          ]
        }
      ]
    },
    {
      "cell_type": "code",
      "source": [
        "def vpoint_to_xy(vor, index):\n",
        "    return vor.points[index]\n",
        "\n",
        "vpoint_to_xy(vor, 8)"
      ],
      "metadata": {
        "id": "XU9-yIRZCVX8",
        "outputId": "90986a5c-275b-43f8-f927-48201d64d1bb",
        "colab": {
          "base_uri": "https://localhost:8080/"
        }
      },
      "execution_count": null,
      "outputs": [
        {
          "output_type": "execute_result",
          "data": {
            "text/plain": [
              "array([2., 2.])"
            ]
          },
          "metadata": {},
          "execution_count": 105
        }
      ]
    },
    {
      "cell_type": "code",
      "source": [
        "def vpoint_to_region(vor, index):\n",
        "    return vor.point_region[index]\n",
        "\n",
        "vpoint_to_region(vor, 8)"
      ],
      "metadata": {
        "id": "arYL7BI2DT4r",
        "outputId": "da2bd240-cf22-4e7e-fbec-223febcd8dce",
        "colab": {
          "base_uri": "https://localhost:8080/"
        }
      },
      "execution_count": null,
      "outputs": [
        {
          "output_type": "execute_result",
          "data": {
            "text/plain": [
              "5"
            ]
          },
          "metadata": {},
          "execution_count": 106
        }
      ]
    },
    {
      "cell_type": "markdown",
      "source": [
        "### __Inverse mapping:__ $\\phi^{-1}$ (Regions to points)\n",
        "\n",
        "\\begin{align}\n",
        "    \\phi^{-1}: r_j\\to p_i,\\qquad &\\phi^{-1}(r_j) = p_i \n",
        "\\end{align}\n",
        "\n",
        "---"
      ],
      "metadata": {
        "id": "8woOwKPH5hXW"
      }
    },
    {
      "cell_type": "code",
      "source": [
        "for i in range(len(vor.regions)-1):\n",
        "    print(\"region #\", i+1,\" ->   point\", np.where(vor.point_region == i+1)[0][0])"
      ],
      "metadata": {
        "id": "_RweIT9V4Bkm",
        "outputId": "5622366a-43ec-43aa-f200-ecff6d8e0220",
        "colab": {
          "base_uri": "https://localhost:8080/"
        }
      },
      "execution_count": null,
      "outputs": [
        {
          "output_type": "stream",
          "name": "stdout",
          "text": [
            "region # 1  ->   point 0\n",
            "region # 2  ->   point 2\n",
            "region # 3  ->   point 1\n",
            "region # 4  ->   point 7\n",
            "region # 5  ->   point 8\n",
            "region # 6  ->   point 6\n",
            "region # 7  ->   point 4\n",
            "region # 8  ->   point 3\n",
            "region # 9  ->   point 5\n"
          ]
        }
      ]
    },
    {
      "cell_type": "code",
      "source": [
        "def region_to_vpoint(vor, index):\n",
        "    return np.where(vor.point_region == index)[0][0]\n",
        "\n",
        "region_to_vpoint(vor, 8)"
      ],
      "metadata": {
        "id": "JXjFM8RNDvcV",
        "outputId": "33c9865e-fb1d-4689-d555-232522e29493",
        "colab": {
          "base_uri": "https://localhost:8080/"
        }
      },
      "execution_count": null,
      "outputs": [
        {
          "output_type": "execute_result",
          "data": {
            "text/plain": [
              "3"
            ]
          },
          "metadata": {},
          "execution_count": 111
        }
      ]
    },
    {
      "cell_type": "code",
      "source": [
        "def regions_to_vpoints(vor, regions):\n",
        "    vpoints = []\n",
        "    for i in regions:\n",
        "        vpoints.append(region_to_vpoint(vor, i))\n",
        "    return vpoints\n",
        "\n",
        "regions_to_vpoints(vor, [1,2,3,4])"
      ],
      "metadata": {
        "id": "WrsQDjJNHEqV",
        "outputId": "140d16b8-2649-4b93-820d-12cd6e3026da",
        "colab": {
          "base_uri": "https://localhost:8080/"
        }
      },
      "execution_count": null,
      "outputs": [
        {
          "output_type": "execute_result",
          "data": {
            "text/plain": [
              "[0, 2, 1, 7]"
            ]
          },
          "metadata": {},
          "execution_count": 122
        }
      ]
    },
    {
      "cell_type": "code",
      "source": [
        "### Get Voronoi regions     (Vertices in each region)\n",
        "print(vor.regions)"
      ],
      "metadata": {
        "colab": {
          "base_uri": "https://localhost:8080/"
        },
        "id": "UcOOuRj7PdJg",
        "outputId": "f7307f2b-9f18-4249-f7b7-317a3da78ca4"
      },
      "execution_count": null,
      "outputs": [
        {
          "output_type": "stream",
          "name": "stdout",
          "text": [
            "[[], [-1, 0], [-1, 1], [1, -1, 0], [3, -1, 2], [-1, 3], [-1, 2], [0, 1, 3, 2], [2, -1, 0], [3, -1, 1]]\n"
          ]
        }
      ]
    },
    {
      "cell_type": "code",
      "source": [
        "### Get Voronoi vertices (coordinates)\n",
        "vor.vertices"
      ],
      "metadata": {
        "colab": {
          "base_uri": "https://localhost:8080/"
        },
        "id": "dIDAOkD8PZHW",
        "outputId": "371c723d-3cc3-4764-974f-ee67fbd1136f"
      },
      "execution_count": null,
      "outputs": [
        {
          "output_type": "execute_result",
          "data": {
            "text/plain": [
              "array([[0.5, 0.5],\n",
              "       [0.5, 1.5],\n",
              "       [1.5, 0.5],\n",
              "       [1.5, 1.5]])"
            ]
          },
          "metadata": {},
          "execution_count": 55
        }
      ]
    },
    {
      "cell_type": "code",
      "source": [
        "### Get Voronoi mapping (points to regions)\n",
        "vor.point_region "
      ],
      "metadata": {
        "id": "eg_SH2C5lx7m",
        "outputId": "2f5c4ef1-a712-45dc-f85f-b8fe5713babc",
        "colab": {
          "base_uri": "https://localhost:8080/"
        }
      },
      "execution_count": null,
      "outputs": [
        {
          "output_type": "execute_result",
          "data": {
            "text/plain": [
              "array([1, 3, 2, 8, 7, 9, 6, 4, 5])"
            ]
          },
          "metadata": {},
          "execution_count": 56
        }
      ]
    },
    {
      "cell_type": "markdown",
      "source": [
        "### __Ridges__: Vertices and frontiers"
      ],
      "metadata": {
        "id": "ts3XKsgx_zCz"
      }
    },
    {
      "cell_type": "code",
      "source": [
        "temp_dict = vor.ridge_dict\n",
        "temp_keys = temp_dict.keys()\n",
        "\n",
        "for key in temp_keys:\n",
        "    print(\"p1 -> p2:  \", key[0],\"->\", key[1],\"    |    vertices: \", temp_dict[key])\n",
        "    if np.any(np.array(temp_dict[key]) == -1):\n",
        "        pass\n",
        "    else:\n",
        "        print(\"                                  \", temp_dict[key][0],\" (x1, y1):\" , vor.vertices[temp_dict[key][0]])\n",
        "        print(\"                                  \", temp_dict[key][1],\" (x2, y2):\" , vor.vertices[temp_dict[key][1]])\n"
      ],
      "metadata": {
        "id": "TbSHJJiQugPr",
        "outputId": "99cdd3c8-68aa-438a-b8d1-de2d2be25cac",
        "colab": {
          "base_uri": "https://localhost:8080/"
        }
      },
      "execution_count": null,
      "outputs": [
        {
          "output_type": "stream",
          "name": "stdout",
          "text": [
            "p1 -> p2:   0 -> 3     |    vertices:  [-1, 0]\n",
            "p1 -> p2:   0 -> 1     |    vertices:  [-1, 0]\n",
            "p1 -> p2:   2 -> 5     |    vertices:  [-1, 1]\n",
            "p1 -> p2:   2 -> 1     |    vertices:  [-1, 1]\n",
            "p1 -> p2:   1 -> 4     |    vertices:  [0, 1]\n",
            "                                   0  (x1, y1): [0.5 0.5]\n",
            "                                   1  (x2, y2): [0.5 1.5]\n",
            "p1 -> p2:   7 -> 8     |    vertices:  [-1, 3]\n",
            "p1 -> p2:   7 -> 6     |    vertices:  [-1, 2]\n",
            "p1 -> p2:   7 -> 4     |    vertices:  [2, 3]\n",
            "                                   2  (x1, y1): [1.5 0.5]\n",
            "                                   3  (x2, y2): [1.5 1.5]\n",
            "p1 -> p2:   8 -> 5     |    vertices:  [-1, 3]\n",
            "p1 -> p2:   6 -> 3     |    vertices:  [-1, 2]\n",
            "p1 -> p2:   4 -> 5     |    vertices:  [1, 3]\n",
            "                                   1  (x1, y1): [0.5 1.5]\n",
            "                                   3  (x2, y2): [1.5 1.5]\n",
            "p1 -> p2:   4 -> 3     |    vertices:  [0, 2]\n",
            "                                   0  (x1, y1): [0.5 0.5]\n",
            "                                   2  (x2, y2): [1.5 0.5]\n"
          ]
        }
      ]
    },
    {
      "cell_type": "code",
      "source": [
        "vor.ridge_dict"
      ],
      "metadata": {
        "id": "xt5fuXGEwKSf",
        "outputId": "d736d3a0-cb9a-4d2c-f47f-64c4717c3209",
        "colab": {
          "base_uri": "https://localhost:8080/"
        }
      },
      "execution_count": null,
      "outputs": [
        {
          "output_type": "execute_result",
          "data": {
            "text/plain": [
              "{(0, 3): [-1, 0],\n",
              " (0, 1): [-1, 0],\n",
              " (2, 5): [-1, 1],\n",
              " (2, 1): [-1, 1],\n",
              " (1, 4): [0, 1],\n",
              " (7, 8): [-1, 3],\n",
              " (7, 6): [-1, 2],\n",
              " (7, 4): [2, 3],\n",
              " (8, 5): [-1, 3],\n",
              " (6, 3): [-1, 2],\n",
              " (4, 5): [1, 3],\n",
              " (4, 3): [0, 2]}"
            ]
          },
          "metadata": {},
          "execution_count": 58
        }
      ]
    },
    {
      "cell_type": "markdown",
      "source": [
        "### Voronoi diagram visualization"
      ],
      "metadata": {
        "id": "Lt94kQXP_8uo"
      }
    },
    {
      "cell_type": "code",
      "source": [
        "### Use built-in function to plot \n",
        "voronoi_plot_2d(vor)\n",
        "plt.scatter(vor.vertices[:,0], vor.vertices[:,1], color=\"green\", s=100)\n",
        "plt.show()"
      ],
      "metadata": {
        "colab": {
          "base_uri": "https://localhost:8080/",
          "height": 374
        },
        "id": "YdR_9NXbGSL9",
        "outputId": "963e66f7-493a-4d7c-d1af-3860b37f4fdb"
      },
      "execution_count": null,
      "outputs": [
        {
          "output_type": "display_data",
          "data": {
            "text/plain": [
              "<Figure size 864x432 with 1 Axes>"
            ],
            "image/png": "[encoded data removed]"
          },
          "metadata": {
            "needs_background": "light"
          }
        }
      ]
    },
    {
      "cell_type": "code",
      "source": [
        "### Use built-in function to plot \n",
        "voronoi_plot_2d(vor)\n",
        "\n",
        "### Visualize points to coordinates\n",
        "for i in range(vor.npoints):\n",
        "    plt.text(vor.points[i,0], vor.points[i,1] + 0.05, f\"{i}\", color=\"blue\")\n",
        "\n",
        "### Visualize regions to points to coordinates\n",
        "for j in range(len(vor.regions)-1):\n",
        "    point = region_to_vpoint(vor, j+1)\n",
        "    plt.text(vor.points[point,0], vor.points[point,1] - 0.05, f\"{point}\", color=\"red\")\n",
        "\n",
        "plt.show()"
      ],
      "metadata": {
        "id": "--uWDzaPsBDN",
        "outputId": "9d317d0e-be73-4197-db57-779b58c0a308",
        "colab": {
          "base_uri": "https://localhost:8080/",
          "height": 374
        }
      },
      "execution_count": null,
      "outputs": [
        {
          "output_type": "display_data",
          "data": {
            "text/plain": [
              "<Figure size 864x432 with 1 Axes>"
            ],
            "image/png": "[encoded data removed]"
          },
          "metadata": {
            "needs_background": "light"
          }
        }
      ]
    },
    {
      "cell_type": "code",
      "source": [
        "### Get Voronoi ridge-vertices and ridge-points\n",
        "vor.ridge_vertices;\n",
        "vor.ridge_points;\n",
        "vor.regions;"
      ],
      "metadata": {
        "id": "JbV-U5PvPWs9"
      },
      "execution_count": null,
      "outputs": []
    }
  ]
}