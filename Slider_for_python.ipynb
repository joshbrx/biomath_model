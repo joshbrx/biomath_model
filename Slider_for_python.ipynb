{
  "nbformat": 4,
  "nbformat_minor": 0,
  "metadata": {
    "colab": {
      "provenance": [],
      "authorship_tag": "ABX9TyNUSB1Oj6VmZNMgtlNp14nd",
      "include_colab_link": true
    },
    "kernelspec": {
      "name": "python3",
      "display_name": "Python 3"
    },
    "language_info": {
      "name": "python"
    }
  },
  "cells": [
    {
      "cell_type": "markdown",
      "metadata": {
        "id": "view-in-github",
        "colab_type": "text"
      },
      "source": [
        "<a href=\"https://colab.research.google.com/github/joshbrx/biomath_model/blob/main/Slider_for_python.ipynb\" target=\"_parent\"><img src=\"https://colab.research.google.com/assets/colab-badge.svg\" alt=\"Open In Colab\"/></a>"
      ]
    },
    {
      "cell_type": "code",
      "source": [
        "import numpy as np\n",
        "import matplotlib.pyplot as plt\n",
        "from matplotlib.widgets import Slider, Button"
      ],
      "metadata": {
        "id": "jvXoClCvR_4l"
      },
      "execution_count": 1,
      "outputs": []
    },
    {
      "cell_type": "code",
      "source": [
        "# The parametrized function to be plotted\n",
        "def f(t, amplitude, frequency):\n",
        "    return amplitude * np.sin(2 * np.pi * frequency * t)\n",
        "\n",
        "t = np.linspace(0, 1, 1000)\n",
        "\n",
        "# Define initial parameters\n",
        "init_amplitude = 5\n",
        "init_frequency = 3\n",
        "\n",
        "# Create the figure and the line that we will manipulate\n",
        "fig, ax = plt.subplots()\n",
        "line, = ax.plot(t, f(t, init_amplitude, init_frequency), lw=2)\n",
        "ax.set_xlabel('Time [s]')\n",
        "\n",
        "# adjust the main plot to make room for the sliders\n",
        "fig.subplots_adjust(left=0.25, bottom=0.25)\n",
        "\n",
        "# Make a horizontal slider to control the frequency.\n",
        "axfreq = fig.add_axes([0.25, 0.1, 0.65, 0.03])\n",
        "freq_slider = Slider(\n",
        "    ax=axfreq,\n",
        "    label='Frequency [Hz]',\n",
        "    valmin=0.1,\n",
        "    valmax=30,\n",
        "    valinit=init_frequency,\n",
        ")\n",
        "\n",
        "# Make a vertically oriented slider to control the amplitude\n",
        "axamp = fig.add_axes([0.1, 0.25, 0.0225, 0.63])\n",
        "amp_slider = Slider(\n",
        "    ax=axamp,\n",
        "    label=\"Amplitude\",\n",
        "    valmin=0,\n",
        "    valmax=10,\n",
        "    valinit=init_amplitude,\n",
        "    orientation=\"vertical\"\n",
        ")\n",
        "\n",
        "\n",
        "# The function to be called anytime a slider's value changes\n",
        "def update(val):\n",
        "    line.set_ydata(f(t, amp_slider.val, freq_slider.val))\n",
        "    fig.canvas.draw_idle()\n",
        "\n",
        "\n",
        "# register the update function with each slider\n",
        "freq_slider.on_changed(update)\n",
        "amp_slider.on_changed(update)\n",
        "\n",
        "# Create a `matplotlib.widgets.Button` to reset the sliders to initial values.\n",
        "resetax = fig.add_axes([0.8, 0.025, 0.1, 0.04])\n",
        "button = Button(resetax, 'Reset', hovercolor='0.975')\n",
        "\n",
        "\n",
        "def reset(event):\n",
        "    freq_slider.reset()\n",
        "    amp_slider.reset()\n",
        "button.on_clicked(reset)\n",
        "\n",
        "plt.show()"
      ],
      "metadata": {
        "colab": {
          "base_uri": "https://localhost:8080/",
          "height": 294
        },
        "id": "lHnjUer7SAky",
        "outputId": "5ea36965-7d1a-4d4d-bedc-a7bd47bfb974"
      },
      "execution_count": 3,
      "outputs": [
        {
          "output_type": "display_data",
          "data": {
            "text/plain": [
              "<Figure size 432x288 with 4 Axes>"
            ],
            "image/png": "[encoded data removed]"
          },
          "metadata": {
            "needs_background": "light"
          }
        }
      ]
    },
    {
      "cell_type": "code",
      "source": [],
      "metadata": {
        "id": "OYQn4bRzR_cG"
      },
      "execution_count": null,
      "outputs": []
    },
    {
      "cell_type": "code",
      "execution_count": null,
      "metadata": {
        "id": "Zr_QrlsfRaye"
      },
      "outputs": [],
      "source": [
        "|||"
      ]
    }
  ]
}