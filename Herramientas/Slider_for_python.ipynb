{
  "nbformat": 4,
  "nbformat_minor": 0,
  "metadata": {
    "colab": {
      "provenance": [],
      "authorship_tag": "ABX9TyMYPMmF5MYeVK/7XYXQ4+oi",
      "include_colab_link": true
    },
    "kernelspec": {
      "name": "python3",
      "display_name": "Python 3"
    },
    "language_info": {
      "name": "python"
    },
    "widgets": {
      "application/vnd.jupyter.widget-state+json": {
        "963358b868bc4283933848f082a31bda": {
          "model_module": "@jupyter-widgets/controls",
          "model_name": "VBoxModel",
          "model_module_version": "1.5.0",
          "state": {
            "_dom_classes": [
              "widget-interact"
            ],
            "_model_module": "@jupyter-widgets/controls",
            "_model_module_version": "1.5.0",
            "_model_name": "VBoxModel",
            "_view_count": null,
            "_view_module": "@jupyter-widgets/controls",
            "_view_module_version": "1.5.0",
            "_view_name": "VBoxView",
            "box_style": "",
            "children": [
              "IPY_MODEL_6328f4a04ae1436b943549838e47530b",
              "IPY_MODEL_0f832085941d48b98b7dc54bfefafe70"
            ],
            "layout": "IPY_MODEL_53465a7f792d4e1da8f728a4e509a838"
          }
        },
        "6328f4a04ae1436b943549838e47530b": {
          "model_module": "@jupyter-widgets/controls",
          "model_name": "FloatSliderModel",
          "model_module_version": "1.5.0",
          "state": {
            "_dom_classes": [],
            "_model_module": "@jupyter-widgets/controls",
            "_model_module_version": "1.5.0",
            "_model_name": "FloatSliderModel",
            "_view_count": null,
            "_view_module": "@jupyter-widgets/controls",
            "_view_module_version": "1.5.0",
            "_view_name": "FloatSliderView",
            "continuous_update": true,
            "description": "freq",
            "description_tooltip": null,
            "disabled": false,
            "layout": "IPY_MODEL_f389bc8d761f41ce9863f2e3035c5137",
            "max": 10,
            "min": 1,
            "orientation": "horizontal",
            "readout": true,
            "readout_format": ".2f",
            "step": 0.25,
            "style": "IPY_MODEL_8db074d46e574dd199a59d97577534b2",
            "value": 7.5
          }
        },
        "0f832085941d48b98b7dc54bfefafe70": {
          "model_module": "@jupyter-widgets/output",
          "model_name": "OutputModel",
          "model_module_version": "1.0.0",
          "state": {
            "_dom_classes": [],
            "_model_module": "@jupyter-widgets/output",
            "_model_module_version": "1.0.0",
            "_model_name": "OutputModel",
            "_view_count": null,
            "_view_module": "@jupyter-widgets/output",
            "_view_module_version": "1.0.0",
            "_view_name": "OutputView",
            "layout": "IPY_MODEL_f2268ccfb62c4e54ac509a5916792d12",
            "msg_id": "",
            "outputs": [
              {
                "output_type": "display_data",
                "data": {
                  "text/plain": "<Figure size 432x288 with 1 Axes>",
                  "image/png": "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\n"
                },
                "metadata": {
                  "needs_background": "light"
                }
              }
            ]
          }
        },
        "53465a7f792d4e1da8f728a4e509a838": {
          "model_module": "@jupyter-widgets/base",
          "model_name": "LayoutModel",
          "model_module_version": "1.2.0",
          "state": {
            "_model_module": "@jupyter-widgets/base",
            "_model_module_version": "1.2.0",
            "_model_name": "LayoutModel",
            "_view_count": null,
            "_view_module": "@jupyter-widgets/base",
            "_view_module_version": "1.2.0",
            "_view_name": "LayoutView",
            "align_content": null,
            "align_items": null,
            "align_self": null,
            "border": null,
            "bottom": null,
            "display": null,
            "flex": null,
            "flex_flow": null,
            "grid_area": null,
            "grid_auto_columns": null,
            "grid_auto_flow": null,
            "grid_auto_rows": null,
            "grid_column": null,
            "grid_gap": null,
            "grid_row": null,
            "grid_template_areas": null,
            "grid_template_columns": null,
            "grid_template_rows": null,
            "height": null,
            "justify_content": null,
            "justify_items": null,
            "left": null,
            "margin": null,
            "max_height": null,
            "max_width": null,
            "min_height": null,
            "min_width": null,
            "object_fit": null,
            "object_position": null,
            "order": null,
            "overflow": null,
            "overflow_x": null,
            "overflow_y": null,
            "padding": null,
            "right": null,
            "top": null,
            "visibility": null,
            "width": null
          }
        },
        "f389bc8d761f41ce9863f2e3035c5137": {
          "model_module": "@jupyter-widgets/base",
          "model_name": "LayoutModel",
          "model_module_version": "1.2.0",
          "state": {
            "_model_module": "@jupyter-widgets/base",
            "_model_module_version": "1.2.0",
            "_model_name": "LayoutModel",
            "_view_count": null,
            "_view_module": "@jupyter-widgets/base",
            "_view_module_version": "1.2.0",
            "_view_name": "LayoutView",
            "align_content": null,
            "align_items": null,
            "align_self": null,
            "border": null,
            "bottom": null,
            "display": null,
            "flex": null,
            "flex_flow": null,
            "grid_area": null,
            "grid_auto_columns": null,
            "grid_auto_flow": null,
            "grid_auto_rows": null,
            "grid_column": null,
            "grid_gap": null,
            "grid_row": null,
            "grid_template_areas": null,
            "grid_template_columns": null,
            "grid_template_rows": null,
            "height": null,
            "justify_content": null,
            "justify_items": null,
            "left": null,
            "margin": null,
            "max_height": null,
            "max_width": null,
            "min_height": null,
            "min_width": null,
            "object_fit": null,
            "object_position": null,
            "order": null,
            "overflow": null,
            "overflow_x": null,
            "overflow_y": null,
            "padding": null,
            "right": null,
            "top": null,
            "visibility": null,
            "width": null
          }
        },
        "8db074d46e574dd199a59d97577534b2": {
          "model_module": "@jupyter-widgets/controls",
          "model_name": "SliderStyleModel",
          "model_module_version": "1.5.0",
          "state": {
            "_model_module": "@jupyter-widgets/controls",
            "_model_module_version": "1.5.0",
            "_model_name": "SliderStyleModel",
            "_view_count": null,
            "_view_module": "@jupyter-widgets/base",
            "_view_module_version": "1.2.0",
            "_view_name": "StyleView",
            "description_width": "",
            "handle_color": null
          }
        },
        "f2268ccfb62c4e54ac509a5916792d12": {
          "model_module": "@jupyter-widgets/base",
          "model_name": "LayoutModel",
          "model_module_version": "1.2.0",
          "state": {
            "_model_module": "@jupyter-widgets/base",
            "_model_module_version": "1.2.0",
            "_model_name": "LayoutModel",
            "_view_count": null,
            "_view_module": "@jupyter-widgets/base",
            "_view_module_version": "1.2.0",
            "_view_name": "LayoutView",
            "align_content": null,
            "align_items": null,
            "align_self": null,
            "border": null,
            "bottom": null,
            "display": null,
            "flex": null,
            "flex_flow": null,
            "grid_area": null,
            "grid_auto_columns": null,
            "grid_auto_flow": null,
            "grid_auto_rows": null,
            "grid_column": null,
            "grid_gap": null,
            "grid_row": null,
            "grid_template_areas": null,
            "grid_template_columns": null,
            "grid_template_rows": null,
            "height": null,
            "justify_content": null,
            "justify_items": null,
            "left": null,
            "margin": null,
            "max_height": null,
            "max_width": null,
            "min_height": null,
            "min_width": null,
            "object_fit": null,
            "object_position": null,
            "order": null,
            "overflow": null,
            "overflow_x": null,
            "overflow_y": null,
            "padding": null,
            "right": null,
            "top": null,
            "visibility": null,
            "width": null
          }
        }
      }
    }
  },
  "cells": [
    {
      "cell_type": "markdown",
      "metadata": {
        "id": "view-in-github",
        "colab_type": "text"
      },
      "source": [
        "<a href=\"https://colab.research.google.com/github/joshbrx/biomath_model/blob/main/Slider_for_python.ipynb\" target=\"_parent\"><img src=\"https://colab.research.google.com/assets/colab-badge.svg\" alt=\"Open In Colab\"/></a>"
      ]
    },
    {
      "cell_type": "code",
      "source": [
        "import numpy as np\n",
        "import matplotlib.pyplot as plt\n",
        "from matplotlib.widgets import Slider, Button"
      ],
      "metadata": {
        "id": "jvXoClCvR_4l"
      },
      "execution_count": 1,
      "outputs": []
    },
    {
      "cell_type": "code",
      "execution_count": 10,
      "metadata": {
        "id": "Zr_QrlsfRaye",
        "outputId": "bc8db64f-2076-4b28-ca84-56549d4fd01d",
        "colab": {
          "base_uri": "https://localhost:8080/",
          "height": 314,
          "referenced_widgets": [
            "963358b868bc4283933848f082a31bda",
            "6328f4a04ae1436b943549838e47530b",
            "0f832085941d48b98b7dc54bfefafe70",
            "53465a7f792d4e1da8f728a4e509a838",
            "f389bc8d761f41ce9863f2e3035c5137",
            "8db074d46e574dd199a59d97577534b2",
            "f2268ccfb62c4e54ac509a5916792d12"
          ]
        }
      },
      "outputs": [
        {
          "output_type": "display_data",
          "data": {
            "text/plain": [
              "interactive(children=(FloatSlider(value=9.5, description='freq', max=10.0, min=1.0, step=0.25), Output()), _do…"
            ],
            "application/vnd.jupyter.widget-view+json": {
              "version_major": 2,
              "version_minor": 0,
              "model_id": "963358b868bc4283933848f082a31bda"
            }
          },
          "metadata": {}
        },
        {
          "output_type": "execute_result",
          "data": {
            "text/plain": [
              "<function __main__.plot_func(freq)>"
            ]
          },
          "metadata": {},
          "execution_count": 10
        }
      ],
      "source": [
        "from ipywidgets import interact, interactive, fixed, interact_manual\n",
        "import ipywidgets as widgets\n",
        "\n",
        "import matplotlib.pyplot as plt\n",
        "%matplotlib inline\n",
        "\n",
        "import numpy as np\n",
        "\n",
        "def plot_func(freq):\n",
        "    x = np.linspace(0, 2*np.pi, 2000)\n",
        "    y = np.sin(x * freq)\n",
        "    plt.plot(x, y)\n",
        "\n",
        "interact(plot_func, freq = widgets.FloatSlider(value=9.5,\n",
        "                                               min=1,\n",
        "                                               max=10.0,\n",
        "                                               step=0.25))"
      ]
    },
    {
      "cell_type": "code",
      "source": [],
      "metadata": {
        "id": "W0mSx6F8eoTJ"
      },
      "execution_count": null,
      "outputs": []
    }
  ]
}