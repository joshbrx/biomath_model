{
  "nbformat": 4,
  "nbformat_minor": 0,
  "metadata": {
    "colab": {
      "provenance": [],
      "authorship_tag": "ABX9TyPHscRlZfVXzOlW44Ad7ZBD",
      "include_colab_link": true
    },
    "kernelspec": {
      "name": "python3",
      "display_name": "Python 3"
    },
    "language_info": {
      "name": "python"
    }
  },
  "cells": [
    {
      "cell_type": "markdown",
      "metadata": {
        "id": "view-in-github",
        "colab_type": "text"
      },
      "source": [
        "<a href=\"https://colab.research.google.com/github/joshbrx/biomath_model/blob/main/reaction_kinetics.ipynb\" target=\"_parent\"><img src=\"https://colab.research.google.com/assets/colab-badge.svg\" alt=\"Open In Colab\"/></a>"
      ]
    },
    {
      "cell_type": "code",
      "execution_count": null,
      "metadata": {
        "id": "8KkQRseFapan"
      },
      "outputs": [],
      "source": []
    },
    {
      "cell_type": "markdown",
      "source": [
        "\\begin{align}\n",
        "    S + E \\mathop{\\ \\longleftrightarrow\\ }\\limits^{k_1^+}_{k_1^-} SE \\mathop{\\ \\longrightarrow\\ }\\limits^{k_2} P + E\n",
        "\\end{align}"
      ],
      "metadata": {
        "id": "uKLbxxaUasLs"
      }
    },
    {
      "cell_type": "markdown",
      "source": [
        "\\begin{align}\n",
        "    s = [S],\\quad e = [E],\\quad c = [SE],\\quad p = [P]\n",
        "\\end{align}"
      ],
      "metadata": {
        "id": "0D53VSqCewQZ"
      }
    },
    {
      "cell_type": "markdown",
      "source": [
        "\\begin{align}\n",
        "    \\frac{ds}{dt} = -k_1^+ es + k_1^-c, \\qquad & \\frac{de}{dt} = -k_1^+ es +( k_1^-+k_2)c \\\\\n",
        "    \\frac{dc}{dt} = k_1^+ es - (k_1^-+k_2)c, \\qquad & \\frac{dp}{dt} = k_2c \\\\\n",
        "\\end{align}"
      ],
      "metadata": {
        "id": "bybO7Hm_fB6x"
      }
    },
    {
      "cell_type": "markdown",
      "source": [
        "$\\mathop{A}\\limits_{e=1}^{m}$\n",
        "$$\\mathop{\\ \\longleftrightarrow\\ }\\limits^{k_1^+}_{k_1^-}$$"
      ],
      "metadata": {
        "id": "69oQO_HtdJnC"
      }
    },
    {
      "cell_type": "code",
      "source": [],
      "metadata": {
        "id": "jgV5QvmGa3lL"
      },
      "execution_count": null,
      "outputs": []
    }
  ]
}